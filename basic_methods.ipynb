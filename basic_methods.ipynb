{
 "cells": [
  {
   "cell_type": "code",
   "execution_count": 2,
   "id": "017afeca-3d20-4bcd-914b-8f19b07dda98",
   "metadata": {},
   "outputs": [],
   "source": [
    "import numpy as np\n"
   ]
  },
  {
   "cell_type": "code",
   "execution_count": 3,
   "id": "4e2a5a86-64cd-4de6-82cc-5c61f359ee8e",
   "metadata": {},
   "outputs": [],
   "source": [
    "setup_time = np.array([\n",
    "    [np.inf, 15.05, 12.37, 14.78, 15.23, np.inf],\n",
    "    [13.70,  np.inf, 15.67, 13.12, 15.46, np.inf],\n",
    "    [13.51, 13.91,  np.inf, 11.60, 11.86, np.inf],\n",
    "    [16.49, 16.93, 13.55,  np.inf, 11.88, np.inf],\n",
    "    [17.00, 16.56, 17.03, 17.28,  np.inf,np.inf],\n",
    "    [10.58, 16.04, 13.82, 11.54, 14.88, np.inf] \n",
    "], dtype=float)"
   ]
  },
  {
   "cell_type": "code",
   "execution_count": 4,
   "id": "f7daa778-6093-444f-8280-51ce3ecf53dd",
   "metadata": {},
   "outputs": [
    {
     "name": "stdout",
     "output_type": "stream",
     "text": [
      "Nearest Neighbor Tour: [5, 0, 2, 3, 4, 1]\n",
      "Total Distance: 62.989999999999995\n"
     ]
    }
   ],
   "source": [
    "\n",
    "def tsp_nearest_neighbor(distance_matrix, start):\n",
    "    n = len(distance_matrix)\n",
    "    visited = [False] * n\n",
    "    tour = [start]\n",
    "    visited[start] = True\n",
    "    total_distance = 0\n",
    "\n",
    "    current_city = start\n",
    "    for _ in range(n - 1):\n",
    "        nearest_city = None\n",
    "        nearest_distance = float(\"inf\")\n",
    "        for city in range(n):\n",
    "            if not visited[city] and distance_matrix[current_city][city] < nearest_distance:\n",
    "                nearest_city = city\n",
    "                nearest_distance = distance_matrix[current_city][city]\n",
    "        \n",
    "        if nearest_city is None:  # safeguard\n",
    "            break\n",
    "\n",
    "        tour.append(nearest_city)\n",
    "        visited[nearest_city] = True\n",
    "        total_distance += nearest_distance\n",
    "        current_city = nearest_city\n",
    "\n",
    "    return tour, total_distance\n",
    "\n",
    "\n",
    "tour, distance = tsp_nearest_neighbor(setup_time, start=5)\n",
    "print(\"Nearest Neighbor Tour:\", tour)\n",
    "print(\"Total Distance:\", distance)\n"
   ]
  },
  {
   "cell_type": "code",
   "execution_count": 5,
   "id": "9feddfac-cee4-4ed7-8c78-3c7c2387fe74",
   "metadata": {},
   "outputs": [],
   "source": [
    "def greedy_tsp_asymmetric(distance_matrix):\n",
    "    n = len(distance_matrix)\n",
    "    edges = []\n",
    "\n",
    "    # Step 1: collect valid directed edges\n",
    "    for i in range(n):\n",
    "        for j in range(n):\n",
    "            if i != j and distance_matrix[i][j] != float(\"inf\"):\n",
    "                edges.append((distance_matrix[i][j], i, j))\n",
    "    \n",
    "    # Step 2: sort edges by weight\n",
    "    edges.sort(key=lambda x: x[0])\n",
    "\n",
    "    out_degree = [0] * n  # how many edges go out from each node\n",
    "    in_degree = [0] * n   # how many edges go into each node\n",
    "    tour_edges = []\n",
    "\n",
    "    # Step 3: select edges\n",
    "    for w, u, v in edges:\n",
    "        if out_degree[u] < 1 and in_degree[v] < 1:\n",
    "            # Avoid forming cycle before including all nodes\n",
    "            if len(tour_edges) < n - 1 or (v == tour_edges[0][0] and u not in [x[0] for x in tour_edges]):\n",
    "                tour_edges.append((u, v))\n",
    "                out_degree[u] += 1\n",
    "                in_degree[v] += 1\n",
    "        if len(tour_edges) == n:\n",
    "            break\n",
    "\n",
    "    # Step 4: reconstruct tour from directed edges\n",
    "    tour = [tour_edges[0][0]]\n",
    "    current = tour_edges[0][0]\n",
    "    while len(tour) < n:\n",
    "        for u, v in tour_edges:\n",
    "            if u == current:\n",
    "                tour.append(v)\n",
    "                current = v\n",
    "                break\n",
    "    # Step 5: compute distance\n",
    "    total_distance = 0\n",
    "    for i in range(len(tour)-1):\n",
    "        total_distance += distance_matrix[tour[i]][tour[i+1]]\n",
    "\n",
    "    return tour, total_distance\n"
   ]
  },
  {
   "cell_type": "code",
   "execution_count": 6,
   "id": "a738a625-7f0c-4cfe-a4fa-f49f865c1e7e",
   "metadata": {},
   "outputs": [
    {
     "data": {
      "text/plain": [
       "([5, 0, 2, 3, 4, 1], np.float64(62.989999999999995))"
      ]
     },
     "execution_count": 6,
     "metadata": {},
     "output_type": "execute_result"
    }
   ],
   "source": [
    "greedy_tsp_asymmetric(setup_time)"
   ]
  },
  {
   "cell_type": "code",
   "execution_count": 10,
   "id": "f0a28ca7-78c2-463c-a4ca-22d7d7711d92",
   "metadata": {},
   "outputs": [],
   "source": [
    "setup_atime = np.array([\n",
    "    [np.inf, 15.05, 12.37, 14.78, 15.23],\n",
    "    [13.70,  np.inf, 15.67, 13.12, 15.46],\n",
    "    [13.51, 13.91,  np.inf, 11.60, 11.86 ],\n",
    "    [16.49, 16.93, 13.55,  np.inf, 11.88],\n",
    "    [17.00, 16.56, 17.03, 17.28,  np.inf],\n",
    "    [10.58, 16.04, 13.82, 11.54, 14.88] \n",
    "], dtype=float)\n"
   ]
  },
  {
   "cell_type": "code",
   "execution_count": 14,
   "id": "805b88bf-51d6-47c2-836b-5ad010648817",
   "metadata": {},
   "outputs": [
    {
     "name": "stdout",
     "output_type": "stream",
     "text": [
      "Tour starting at node 5: [5, 0, 1, 2, 3, 4]\n",
      "Recalculated distance: inf\n"
     ]
    }
   ],
   "source": [
    "from python_tsp.exact import solve_tsp_dynamic_programming\n",
    "\n",
    "permutation, distance = solve_tsp_dynamic_programming(setup_time)\n",
    "start_node = 5\n",
    "if start_node in permutation:\n",
    "    idx = permutation.index(start_node)\n",
    "    permutation = permutation[idx:] + permutation[:idx]\n",
    "\n",
    "# Recalculate distance for this rotated tour\n",
    "new_distance = 0\n",
    "for i in range(len(permutation)):\n",
    "    u = permutation[i]\n",
    "    v = permutation[(i + 1) % len(permutation)]  # wrap around to make it a cycle\n",
    "    new_distance += setup_time[u, v]\n",
    "\n",
    "print(\"Tour starting at node 5:\", permutation)\n",
    "print(\"Recalculated distance:\", new_distance)\n",
    "\n"
   ]
  },
  {
   "cell_type": "code",
   "execution_count": 8,
   "id": "ee5e1eae-3a28-4b5c-bcbb-64ad16ef07ea",
   "metadata": {},
   "outputs": [
    {
     "data": {
      "text/plain": [
       "[0, 1, 2, 3, 4, 5]"
      ]
     },
     "execution_count": 8,
     "metadata": {},
     "output_type": "execute_result"
    }
   ],
   "source": [
    "permutation"
   ]
  },
  {
   "cell_type": "code",
   "execution_count": 9,
   "id": "e86ef4a7-311a-4a62-b828-4857d431ab69",
   "metadata": {},
   "outputs": [
    {
     "data": {
      "text/plain": [
       "np.float64(inf)"
      ]
     },
     "execution_count": 9,
     "metadata": {},
     "output_type": "execute_result"
    }
   ],
   "source": [
    "distance"
   ]
  },
  {
   "cell_type": "code",
   "execution_count": null,
   "id": "9c403830-df03-4360-be2d-643748360c39",
   "metadata": {},
   "outputs": [],
   "source": []
  }
 ],
 "metadata": {
  "kernelspec": {
   "display_name": "Python 3 (ipykernel)",
   "language": "python",
   "name": "python3"
  },
  "language_info": {
   "codemirror_mode": {
    "name": "ipython",
    "version": 3
   },
   "file_extension": ".py",
   "mimetype": "text/x-python",
   "name": "python",
   "nbconvert_exporter": "python",
   "pygments_lexer": "ipython3",
   "version": "3.12.11"
  }
 },
 "nbformat": 4,
 "nbformat_minor": 5
}
