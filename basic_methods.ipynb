{
 "cells": [
  {
   "cell_type": "code",
   "execution_count": 1,
   "id": "017afeca-3d20-4bcd-914b-8f19b07dda98",
   "metadata": {},
   "outputs": [],
   "source": [
    "import numpy as np\n"
   ]
  },
  {
   "cell_type": "code",
   "execution_count": 2,
   "id": "4e2a5a86-64cd-4de6-82cc-5c61f359ee8e",
   "metadata": {},
   "outputs": [],
   "source": [
    "setup_time = np.array([\n",
    "    [np.inf, 15.05, 12.37, 14.78, 15.23, np.inf],\n",
    "    [13.70,  np.inf, 15.67, 13.12, 15.46, np.inf],\n",
    "    [13.51, 13.91,  np.inf, 11.60, 11.86, np.inf],\n",
    "    [16.49, 16.93, 13.55,  np.inf, 11.88, np.inf],\n",
    "    [17.00, 16.56, 17.03, 17.28,  np.inf,np.inf],\n",
    "    [10.58, 16.04, 13.82, 11.54, 14.88, np.inf] \n",
    "], dtype=float)"
   ]
  },
  {
   "cell_type": "code",
   "execution_count": 3,
   "id": "f7daa778-6093-444f-8280-51ce3ecf53dd",
   "metadata": {},
   "outputs": [
    {
     "name": "stdout",
     "output_type": "stream",
     "text": [
      "Nearest Neighbor Tour: [5, 0, 2, 3, 4, 1]\n",
      "Total Distance: 62.989999999999995\n"
     ]
    }
   ],
   "source": [
    "\n",
    "def tsp_nearest_neighbor(distance_matrix, start):\n",
    "    n = len(distance_matrix)\n",
    "    visited = [False] * n\n",
    "    tour = [start]\n",
    "    visited[start] = True\n",
    "    total_distance = 0\n",
    "\n",
    "    current_city = start\n",
    "    for _ in range(n - 1):\n",
    "        nearest_city = None\n",
    "        nearest_distance = float(\"inf\")\n",
    "        for city in range(n):\n",
    "            if not visited[city] and distance_matrix[current_city][city] < nearest_distance:\n",
    "                nearest_city = city\n",
    "                nearest_distance = distance_matrix[current_city][city]\n",
    "        \n",
    "        if nearest_city is None:  # safeguard\n",
    "            break\n",
    "\n",
    "        tour.append(nearest_city)\n",
    "        visited[nearest_city] = True\n",
    "        total_distance += nearest_distance\n",
    "        current_city = nearest_city\n",
    "\n",
    "    return tour, total_distance\n",
    "\n",
    "\n",
    "tour, distance = tsp_nearest_neighbor(setup_time, start=5)\n",
    "print(\"Nearest Neighbor Tour:\", tour)\n",
    "print(\"Total Distance:\", distance)\n"
   ]
  },
  {
   "cell_type": "code",
   "execution_count": 4,
   "id": "9feddfac-cee4-4ed7-8c78-3c7c2387fe74",
   "metadata": {},
   "outputs": [],
   "source": [
    "def greedy_tsp_asymmetric(distance_matrix):\n",
    "    n = len(distance_matrix)\n",
    "    edges = []\n",
    "\n",
    "    # Step 1: collect valid directed edges\n",
    "    for i in range(n):\n",
    "        for j in range(n):\n",
    "            if i != j and distance_matrix[i][j] != float(\"inf\"):\n",
    "                edges.append((distance_matrix[i][j], i, j))\n",
    "    \n",
    "    # Step 2: sort edges by weight\n",
    "    edges.sort(key=lambda x: x[0])\n",
    "\n",
    "    out_degree = [0] * n  # how many edges go out from each node\n",
    "    in_degree = [0] * n   # how many edges go into each node\n",
    "    tour_edges = []\n",
    "\n",
    "    # Step 3: select edges\n",
    "    for w, u, v in edges:\n",
    "        if out_degree[u] < 1 and in_degree[v] < 1:\n",
    "            # Avoid forming cycle before including all nodes\n",
    "            if len(tour_edges) < n - 1 or (v == tour_edges[0][0] and u not in [x[0] for x in tour_edges]):\n",
    "                tour_edges.append((u, v))\n",
    "                out_degree[u] += 1\n",
    "                in_degree[v] += 1\n",
    "        if len(tour_edges) == n:\n",
    "            break\n",
    "\n",
    "    # Step 4: reconstruct tour from directed edges\n",
    "    tour = [tour_edges[0][0]]\n",
    "    current = tour_edges[0][0]\n",
    "    while len(tour) < n:\n",
    "        for u, v in tour_edges:\n",
    "            if u == current:\n",
    "                tour.append(v)\n",
    "                current = v\n",
    "                break\n",
    "    # Step 5: compute distance\n",
    "    total_distance = 0\n",
    "    for i in range(len(tour)-1):\n",
    "        total_distance += distance_matrix[tour[i]][tour[i+1]]\n",
    "\n",
    "    return tour, total_distance\n"
   ]
  },
  {
   "cell_type": "code",
   "execution_count": 5,
   "id": "a738a625-7f0c-4cfe-a4fa-f49f865c1e7e",
   "metadata": {},
   "outputs": [
    {
     "data": {
      "text/plain": [
       "([5, 0, 2, 3, 4, 1], np.float64(62.989999999999995))"
      ]
     },
     "execution_count": 5,
     "metadata": {},
     "output_type": "execute_result"
    }
   ],
   "source": [
    "greedy_tsp_asymmetric(setup_time)"
   ]
  },
  {
   "cell_type": "code",
   "execution_count": 6,
   "id": "f0a28ca7-78c2-463c-a4ca-22d7d7711d92",
   "metadata": {},
   "outputs": [],
   "source": [
    "setup_atime = np.array([\n",
    "    [np.inf, 15.05, 12.37, 14.78, 15.23],\n",
    "    [13.70,  np.inf, 15.67, 13.12, 15.46],\n",
    "    [13.51, 13.91,  np.inf, 11.60, 11.86 ],\n",
    "    [16.49, 16.93, 13.55,  np.inf, 11.88],\n",
    "    [17.00, 16.56, 17.03, 17.28,  np.inf],\n",
    "    [10.58, 16.04, 13.82, 11.54, 14.88] \n",
    "], dtype=float)\n"
   ]
  },
  {
   "cell_type": "code",
   "execution_count": 7,
   "id": "805b88bf-51d6-47c2-836b-5ad010648817",
   "metadata": {},
   "outputs": [
    {
     "name": "stdout",
     "output_type": "stream",
     "text": [
      "Tour starting at node 5: [5, 0, 1, 2, 3, 4]\n",
      "Recalculated distance: inf\n"
     ]
    }
   ],
   "source": [
    "from python_tsp.exact import solve_tsp_dynamic_programming\n",
    "\n",
    "permutation, distance = solve_tsp_dynamic_programming(setup_time)\n",
    "start_node = 5\n",
    "if start_node in permutation:\n",
    "    idx = permutation.index(start_node)\n",
    "    permutation = permutation[idx:] + permutation[:idx]\n",
    "\n",
    "# Recalculate distance for this rotated tour\n",
    "new_distance = 0\n",
    "for i in range(len(permutation)):\n",
    "    u = permutation[i]\n",
    "    v = permutation[(i + 1) % len(permutation)]  # wrap around to make it a cycle\n",
    "    new_distance += setup_time[u, v]\n",
    "\n",
    "print(\"Tour starting at node 5:\", permutation)\n",
    "print(\"Recalculated distance:\", new_distance)\n",
    "\n"
   ]
  },
  {
   "cell_type": "code",
   "execution_count": 8,
   "id": "ee5e1eae-3a28-4b5c-bcbb-64ad16ef07ea",
   "metadata": {},
   "outputs": [
    {
     "data": {
      "text/plain": [
       "[5, 0, 1, 2, 3, 4]"
      ]
     },
     "execution_count": 8,
     "metadata": {},
     "output_type": "execute_result"
    }
   ],
   "source": [
    "permutation"
   ]
  },
  {
   "cell_type": "code",
   "execution_count": 9,
   "id": "e86ef4a7-311a-4a62-b828-4857d431ab69",
   "metadata": {},
   "outputs": [
    {
     "data": {
      "text/plain": [
       "np.float64(inf)"
      ]
     },
     "execution_count": 9,
     "metadata": {},
     "output_type": "execute_result"
    }
   ],
   "source": [
    "distance"
   ]
  },
  {
   "cell_type": "code",
   "execution_count": null,
   "id": "9c403830-df03-4360-be2d-643748360c39",
   "metadata": {},
   "outputs": [],
   "source": []
  },
  {
   "cell_type": "code",
   "execution_count": null,
   "id": "c0390041",
   "metadata": {},
   "outputs": [
    {
     "name": "stdout",
     "output_type": "stream",
     "text": [
      "Iteration 1: assignment cost = 1000000000061.859985\n",
      "Assignment pairs: [(0, 2), (1, 3), (2, 1), (3, 4), (4, 5), (5, 0)]\n",
      "Final path: [5, 0, 2, 1, 3, 4]\n",
      "Total cost: 61.86\n"
     ]
    }
   ],
   "source": [
    "\n",
    "import numpy as np\n",
    "from scipy.optimize import linear_sum_assignment\n",
    "\n",
    "INF = 1e12  # large cost to forbid arcs\n",
    "\n",
    "def solve_atsp_path_assignment(setup_time, start=5, verbose=True, max_iters=1000):\n",
    "    \"\"\"\n",
    "    Solve asymmetric path-TSP as assignment + subtour elimination.\n",
    "    - setup_time: square numpy array of shape (n,n) with np.inf for forbidden/self arcs\n",
    "    - start: fixed start node index\n",
    "    Returns: (path, total_cost)\n",
    "    \"\"\"\n",
    "    # --- shape and sanity checks ---\n",
    "    assert setup_time.ndim == 2, \"setup_time must be a 2D array\"\n",
    "    n, m = setup_time.shape\n",
    "    assert n == m, \"setup_time must be square\"\n",
    "    assert 0 <= start < n, \"start must be a valid node index\"\n",
    "\n",
    "    # Build working cost matrix with large finite costs in place of inf\n",
    "    C = setup_time.copy().astype(float)\n",
    "    C[np.isinf(C)] = INF\n",
    "\n",
    "    # Forbid inbound to start to enforce path starting at 'start'\n",
    "    C[:, start] = INF\n",
    "\n",
    "    # Forbid self loops\n",
    "    for i in range(n):\n",
    "        C[i, i] = INF\n",
    "\n",
    "    # Maintain a mask of forbidden arcs to add cuts\n",
    "    forbidden = np.zeros_like(C, dtype=bool)\n",
    "    forbidden[:, start] = True\n",
    "    np.fill_diagonal(forbidden, True)\n",
    "\n",
    "    def run_hungarian(cost):\n",
    "        row_ind, col_ind = linear_sum_assignment(cost)\n",
    "        return row_ind, col_ind\n",
    "\n",
    "    def extract_assignment_pairs(row_ind, col_ind):\n",
    "        # returns dict next[i] = j (a permutation)\n",
    "        nxt = {int(i): int(j) for i, j in zip(row_ind, col_ind)}\n",
    "        return nxt\n",
    "\n",
    "    def detect_cycles(nxt):\n",
    "        # Return list of cycles, each as a list of nodes in order\n",
    "        visited = {i: False for i in nxt.keys()}\n",
    "        cycles = []\n",
    "        for i in nxt.keys():\n",
    "            if not visited[i]:\n",
    "                cur = i\n",
    "                cycle = []\n",
    "                while not visited[cur]:\n",
    "                    visited[cur] = True\n",
    "                    cycle.append(cur)\n",
    "                    cur = nxt[cur]\n",
    "                # A cycle occurs if we came back to the start of this walk\n",
    "                if cycle and nxt[cycle[-1]] == cycle:\n",
    "                    cycles.append(cycle)\n",
    "        return cycles\n",
    "\n",
    "    def reachable_from_start(nxt, start):\n",
    "        # Traverse following nxt starting at 'start'\n",
    "        seen = set()\n",
    "        cur = start\n",
    "        while cur not in seen:\n",
    "            seen.add(cur)\n",
    "            cur = nxt[cur]\n",
    "        return seen\n",
    "\n",
    "    def is_single_path_from_start(nxt, start):\n",
    "        # The assignment is a permutation (each outdeg=1, indeg=1).\n",
    "        # For a Hamiltonian path starting at start (with inbound to start forbidden),\n",
    "        # starting from 'start' must visit all nodes before any repeat.\n",
    "        seen = reachable_from_start(nxt, start)\n",
    "        return len(seen) == len(nxt)\n",
    "\n",
    "    def path_from_nxt(nxt, start):\n",
    "        order = [start]\n",
    "        cur = start\n",
    "        for _ in range(len(nxt)-1):\n",
    "            cur = nxt[cur]\n",
    "            order.append(cur)\n",
    "        return order\n",
    "\n",
    "    C_work = C.copy()\n",
    "    it = 0\n",
    "    while it < max_iters:\n",
    "        it += 1\n",
    "        # Apply current forbids\n",
    "        C_work[forbidden] = INF\n",
    "\n",
    "        # Run Hungarian\n",
    "        row_ind, col_ind = run_hungarian(C_work)\n",
    "        nxt = extract_assignment_pairs(row_ind, col_ind)\n",
    "\n",
    "        if verbose:\n",
    "            assign_cost = float(C[np.arange(n), col_ind].sum())\n",
    "            print(f\"Iteration {it}: assignment cost = {assign_cost:.6f}\")\n",
    "            print(\"Assignment pairs:\", list(zip(row_ind.tolist(), col_ind.tolist())))\n",
    "\n",
    "        # Check for a single Hamiltonian path from start\n",
    "        if is_single_path_from_start(nxt, start):\n",
    "            path = path_from_nxt(nxt, start)\n",
    "            total_cost = 0.0\n",
    "            for i in range(len(path)-1):\n",
    "                total_cost += float(setup_time[path[i], path[i+1]])\n",
    "            return path, total_cost\n",
    "\n",
    "        # Otherwise detect cycles and cut one arc from a subtour not containing start\n",
    "        cycles = detect_cycles(nxt)\n",
    "\n",
    "        cut_done = False\n",
    "        # Prefer cutting a subtour that does not include start\n",
    "        for cyc in cycles:\n",
    "            if start not in cyc:\n",
    "                # Cut the cheapest selected arc in this subtour\n",
    "                best_arc = None\n",
    "                best_cost = +np.inf\n",
    "                for u in cyc:\n",
    "                    v = nxt[u]\n",
    "                    cost_uv = C[u, v]\n",
    "                    if cost_uv < best_cost:\n",
    "                        best_cost = cost_uv\n",
    "                        best_arc = (u, v)\n",
    "                if best_arc is not None:\n",
    "                    u, v = best_arc\n",
    "                    forbidden[u, v] = True\n",
    "                    if verbose:\n",
    "                        print(f\"  Cutting arc {u}->{v} from subtour {cyc} (cost {best_cost:.6f})\")\n",
    "                    cut_done = True\n",
    "                    break\n",
    "\n",
    "        if not cut_done:\n",
    "            # If only cycle includes start, cut an arc on that cycle that doesn't enter start\n",
    "            for cyc in cycles:\n",
    "                if start in cyc:\n",
    "                    best_arc = None\n",
    "                    best_cost = +np.inf\n",
    "                    for u in cyc:\n",
    "                        v = nxt[u]\n",
    "                        if v == start:\n",
    "                            continue\n",
    "                        cost_uv = C[u, v]\n",
    "                        if cost_uv < best_cost:\n",
    "                            best_cost = cost_uv\n",
    "                            best_arc = (u, v)\n",
    "                    if best_arc is not None:\n",
    "                        u, v = best_arc\n",
    "                        forbidden[u, v] = True\n",
    "                        if verbose:\n",
    "                            print(f\"  Cutting arc {u}->{v} from cycle-through-start {cyc} (cost {best_cost:.6f})\")\n",
    "                        cut_done = True\n",
    "                        break\n",
    "\n",
    "        if not cut_done:\n",
    "            # Fallback: cut the globally cheapest selected arc that doesn't enter start\n",
    "            best_arc = None\n",
    "            best_cost = +np.inf\n",
    "            for u, v in nxt.items():\n",
    "                if v == start:\n",
    "                    continue\n",
    "                if C[u, v] < best_cost:\n",
    "                    best_cost = C[u, v]\n",
    "                    best_arc = (u, v)\n",
    "            if best_arc is None:\n",
    "                raise RuntimeError(\"Failed to find a cut to enforce path structure.\")\n",
    "            forbidden[best_arc] = True\n",
    "            if verbose:\n",
    "                print(f\"  Fallback cut: forbidding selected arc {best_arc}->{best_arc[11]} (cost {best_cost:.6f})\")\n",
    "\n",
    "    raise RuntimeError(\"Maximum iterations exceeded without finding a Hamiltonian path.\")\n",
    "\n",
    "setup_time = np.array([\n",
    "    [np.inf, 15.05, 12.37, 14.78, 15.23, np.inf],\n",
    "    [13.70,  np.inf, 15.67, 13.12, 15.46, np.inf],\n",
    "    [13.51, 13.91,  np.inf, 11.60, 11.86, np.inf],\n",
    "    [16.49, 16.93, 13.55,  np.inf, 11.88, np.inf],\n",
    "    [17.00, 16.56, 17.03, 17.28,  np.inf, np.inf],\n",
    "    [10.58, 16.04, 13.82, 11.54, 14.88, np.inf] \n",
    "], dtype=float)\n",
    "\n",
    "path, cost = solve_atsp_path_assignment(setup_time, start=5, verbose=True)\n",
    "print(\"Final path:\", path)\n",
    "print(\"Total cost:\", cost)\n"
   ]
  },
  {
   "cell_type": "code",
   "execution_count": null,
   "id": "5ba875c1",
   "metadata": {},
   "outputs": [],
   "source": []
  }
 ],
 "metadata": {
  "kernelspec": {
   "display_name": "setupoptimization",
   "language": "python",
   "name": "python3"
  },
  "language_info": {
   "codemirror_mode": {
    "name": "ipython",
    "version": 3
   },
   "file_extension": ".py",
   "mimetype": "text/x-python",
   "name": "python",
   "nbconvert_exporter": "python",
   "pygments_lexer": "ipython3",
   "version": "3.12.0"
  }
 },
 "nbformat": 4,
 "nbformat_minor": 5
}
